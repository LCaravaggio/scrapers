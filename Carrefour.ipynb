{
  "nbformat": 4,
  "nbformat_minor": 0,
  "metadata": {
    "colab": {
      "name": "Carrefour.ipynb",
      "provenance": [],
      "authorship_tag": "ABX9TyOjdHTRFe6SEwBWGxVwKj0/",
      "include_colab_link": true
    },
    "kernelspec": {
      "name": "python3",
      "display_name": "Python 3"
    },
    "language_info": {
      "name": "python"
    }
  },
  "cells": [
    {
      "cell_type": "markdown",
      "metadata": {
        "id": "view-in-github",
        "colab_type": "text"
      },
      "source": [
        "<a href=\"https://colab.research.google.com/github/LCaravaggio/scrapers/blob/master/Carrefour.ipynb\" target=\"_parent\"><img src=\"https://colab.research.google.com/assets/colab-badge.svg\" alt=\"Open In Colab\"/></a>"
      ]
    },
    {
      "cell_type": "code",
      "metadata": {
        "id": "FUYIWOQVOFAV"
      },
      "source": [
        "import pandas as pd\n",
        "import requests\n",
        "\n",
        "import datetime \n",
        "from bs4 import BeautifulSoup"
      ],
      "execution_count": 2,
      "outputs": []
    },
    {
      "cell_type": "code",
      "metadata": {
        "id": "jcYCxlk9OYv4"
      },
      "source": [
        "def scrapcarrefour(site):\n",
        "    r = requests.get(site)\n",
        "    b=\"\"\n",
        "    \n",
        "    soup = BeautifulSoup(r.content, 'html.parser')\n",
        "    b+=soup.find(\"span\", {\"class\": \"vtex-breadcrumb-1-x-term vtex-breadcrumb-1-x-term--breadcrumb-products ph2 c-on-base\"}).text\n",
        "    b+=\";\"\n",
        "    ini=str(soup).find('\"Precio x unidad\",\"values\":{\"type\":\"json\",\"json\":[\"($')\n",
        "    b+=str(soup)[ini+53:ini+59]\n",
        "\n",
        "    return b"
      ],
      "execution_count": 65,
      "outputs": []
    },
    {
      "cell_type": "code",
      "metadata": {
        "colab": {
          "base_uri": "https://localhost:8080/"
        },
        "id": "7jb9iEs3PElq",
        "outputId": "a01a6025-a120-4c47-b74c-a7ac83b70cb0"
      },
      "source": [
        "lista=[\n",
        "       \"https://www.carrefour.com.ar/yerba-mate-playadito-suave-con-palo-1-kg/p\",\n",
        "       \"https://www.carrefour.com.ar/mayonesa-hellmann-s-light-doypack-475-g-5020/p\"\n",
        "       ]\n",
        "\n",
        "a=\"\"\n",
        "for l in lista: \n",
        "  a+=l+\";\"+scrapcarrefour(l)+\"\\n\"\n",
        "\n",
        "\n",
        "now = datetime.datetime.now()\n",
        "nw=str(now.strftime(\"%Y-%m-%d %H-%M-%S\"))\n",
        "\n",
        "with open('Carrefour ' + nw + '.csv', 'w', newline=\"\\n\", encoding='ISO-8859-1') as f:\n",
        "\tf.write(a)\n",
        "f.close"
      ],
      "execution_count": 68,
      "outputs": [
        {
          "output_type": "execute_result",
          "data": {
            "text/plain": [
              "<function TextIOWrapper.close>"
            ]
          },
          "metadata": {},
          "execution_count": 68
        }
      ]
    }
  ]
}