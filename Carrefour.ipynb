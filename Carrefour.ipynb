{
  "nbformat": 4,
  "nbformat_minor": 0,
  "metadata": {
    "colab": {
      "name": "Carrefour.ipynb",
      "provenance": []
    },
    "kernelspec": {
      "name": "python3",
      "display_name": "Python 3"
    },
    "language_info": {
      "name": "python"
    }
  },
  "cells": [
    {
      "cell_type": "code",
      "metadata": {
        "id": "FUYIWOQVOFAV"
      },
      "source": [
        "import pandas as pd\n",
        "import requests\n",
        "\n",
        "import datetime \n",
        "from bs4 import BeautifulSoup"
      ],
      "execution_count": null,
      "outputs": []
    },
    {
      "cell_type": "code",
      "metadata": {
        "id": "jcYCxlk9OYv4"
      },
      "source": [
        "def scrapcarrefour(site):\n",
        "    r = requests.get(site)\n",
        "    b=\"\"\n",
        "    \n",
        "    soup = BeautifulSoup(r.content, 'html.parser')\n",
        "    ini=str(soup).find('=\"og:type\"/><meta content=\"')\n",
        "    fin=str(soup).find('\" data-react-helmet=\"true\" property=\"og:title\"/><meta ')\n",
        "    b+=str(soup)[ini+27:fin]\n",
        "    \n",
        "    b+=\";\"\n",
        "    ini=str(soup).find('\":\"Precio x unidad\",\"values\":{\"type\":\"json\",\"json\":[\"($')\n",
        "    b+=str(soup)[ini+55:ini+61]\n",
        "    \n",
        "\n",
        "    return b"
      ],
      "execution_count": null,
      "outputs": []
    },
    {
      "cell_type": "code",
      "metadata": {
        "id": "7jb9iEs3PElq",
        "colab": {
          "base_uri": "https://localhost:8080/"
        },
        "outputId": "87bfdbe6-233c-4f05-d165-6c789bab093b"
      },
      "source": [
        "\n",
        "lista=[\n",
        "       \"https://www.carrefour.com.ar/yerba-mate-playadito-suave-con-palo-1-kg/p\", \n",
        "       \"https://www.carrefour.com.ar/galletitas-terrabusi-lincoln-clasicas-153-g/p\"\n",
        "       ]\n",
        "\n",
        "a=\"\"\n",
        "for l in lista: \n",
        "  a+=l+\";\"+scrapcarrefour(l)+\"\\n\"\n",
        "\n",
        "\n",
        "now = datetime.datetime.now()\n",
        "nw=str(now.strftime(\"%Y-%m-%d %H-%M-%S\"))\n",
        "\n",
        "with open('Carrefour ' + nw + '.csv', 'w', newline=\"\\n\", encoding='ISO-8859-1') as f:\n",
        "\tf.write(a)\n",
        "f.close"
      ],
      "execution_count": null,
      "outputs": [
        {
          "output_type": "execute_result",
          "data": {
            "text/plain": [
              "<function TextIOWrapper.close>"
            ]
          },
          "metadata": {},
          "execution_count": 9
        }
      ]
    }
  ]
}