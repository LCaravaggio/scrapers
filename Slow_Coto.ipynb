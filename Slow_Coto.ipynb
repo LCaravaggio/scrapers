{
  "nbformat": 4,
  "nbformat_minor": 0,
  "metadata": {
    "colab": {
      "provenance": [],
      "authorship_tag": "ABX9TyOgs/KWK2ZMMc8ID8iT5Vyk",
      "include_colab_link": true
    },
    "kernelspec": {
      "name": "python3",
      "display_name": "Python 3"
    },
    "language_info": {
      "name": "python"
    }
  },
  "cells": [
    {
      "cell_type": "markdown",
      "metadata": {
        "id": "view-in-github",
        "colab_type": "text"
      },
      "source": [
        "<a href=\"https://colab.research.google.com/github/LCaravaggio/scrapers/blob/master/Slow_Coto.ipynb\" target=\"_parent\"><img src=\"https://colab.research.google.com/assets/colab-badge.svg\" alt=\"Open In Colab\"/></a>"
      ]
    },
    {
      "cell_type": "code",
      "source": [
        "from bs4 import BeautifulSoup\n",
        "import pandas as pd\n",
        "import requests\n",
        "from urllib.request import urlopen, Request\n",
        "import datetime\n",
        "import time\n",
        "import random"
      ],
      "metadata": {
        "id": "O6kOR5s0tK7N"
      },
      "execution_count": 57,
      "outputs": []
    },
    {
      "cell_type": "code",
      "execution_count": 104,
      "metadata": {
        "id": "XBKn5J2ns1Ot"
      },
      "outputs": [],
      "source": [
        "def scrapcoto(sitecoto, headers):\n",
        "    try:\n",
        "      session = requests.Session()\n",
        "      session.headers.update(headers)\n",
        "      r = session.get(sitecoto)\n",
        "      b=\"\"\n",
        "      soup = BeautifulSoup(r.content, 'html.parser')\n",
        "      b+=soup.find(\"h1\", {\"class\": \"product_page\"}).text.replace(\" \",\"\").replace(\"\\n\",\"\").replace(\"\\r\",\"\").replace(\";\",\"\").replace(\"\\t\",\"\") + \";\"\n",
        "      try:\n",
        "        b+=soup.find(\"span\", {\"class\": \"atg_store_newPrice\"}).text.replace(\"$\",\"\").replace(\" \",\"\").replace(\"\\n\",\"\").replace(\"\\r\",\"\").replace(\"\\t\",\"\").replace(\"PRECIOCONTADO\",\"\").replace(\"PRECIOREGULAR\",\"\")\n",
        "      except:\n",
        "        b+=soup.find(\"span\", {\"class\": \"price_regular_precio\"}).text.replace(\"$\",\"\").replace(\" \",\"\").replace(\"\\n\",\"\").replace(\"\\r\",\"\").replace(\"\\t\",\"\").replace(\"PRECIOCONTADO\",\"\").replace(\"PRECIOREGULAR\",\"\")\n",
        "\n",
        "      if soup.title.text == ' The URL you requested has been blocked ':\n",
        "        time.sleep(20*60)\n",
        "      return b\n",
        "\n",
        "    except Exception as e:\n",
        "      return \"no se pudo acceder a COTO\""
      ]
    },
    {
      "cell_type": "code",
      "source": [
        "def corre(lista, nombre):\n",
        "  a=\"\"\n",
        "  site=\"https://www.cotodigital3.com.ar/\"\n",
        "  for l in lista:\n",
        "    a+= l + \";\"\n",
        "\n",
        "    headers={'User-Agent': 'Mozilla/5.0 (X11; CrOS x86_64 12871.102.0) Chrome/127.0.6533.89',\n",
        "         'Referer':site}\n",
        "    a+=scrapcoto(l, headers)\n",
        "    time.sleep(random.randrange(3, 15))\n",
        "    a+=\"\\n\"\n",
        "    site=l\n",
        "\n",
        "  now = datetime.datetime.now()\n",
        "  nw=str(now.strftime(\"%Y-%m-%d %H-%M-%S\"))\n",
        "\n",
        "  with open('/content/' + str(nombre) + ' ' + nw + '.csv', 'w', newline=\"\\n\", encoding='utf-8') as f:\n",
        "    f.write(a.replace('\\u2022', '*'))\n",
        "    f.close"
      ],
      "metadata": {
        "id": "TDm1ffW_tMv2"
      },
      "execution_count": 92,
      "outputs": []
    },
    {
      "cell_type": "code",
      "source": [
        "with open('/content/coto.txt') as file:\n",
        "    lista = [line.rstrip() for line in file]\n",
        "    corre(lista, 'supermercados')"
      ],
      "metadata": {
        "id": "wR_byHUAvXHW"
      },
      "execution_count": 93,
      "outputs": []
    }
  ]
}