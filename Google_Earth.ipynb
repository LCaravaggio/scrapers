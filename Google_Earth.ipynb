{
  "nbformat": 4,
  "nbformat_minor": 0,
  "metadata": {
    "colab": {
      "provenance": [],
      "authorship_tag": "ABX9TyMaADD1QsGcLdwd/mFFB0FE",
      "include_colab_link": true
    },
    "kernelspec": {
      "name": "python3",
      "display_name": "Python 3"
    },
    "language_info": {
      "name": "python"
    }
  },
  "cells": [
    {
      "cell_type": "markdown",
      "metadata": {
        "id": "view-in-github",
        "colab_type": "text"
      },
      "source": [
        "<a href=\"https://colab.research.google.com/github/LCaravaggio/scrapers/blob/master/Google_Earth.ipynb\" target=\"_parent\"><img src=\"https://colab.research.google.com/assets/colab-badge.svg\" alt=\"Open In Colab\"/></a>"
      ]
    },
    {
      "cell_type": "code",
      "source": [
        "%%capture\n",
        "!pip install -U seleniumbase\n",
        "!wget https://dl.google.com/linux/direct/google-chrome-stable_current_amd64.deb\n",
        "!sudo dpkg -i google-chrome-stable_current_amd64.deb\n",
        "!sudo apt-get install -f  # Para resolver dependencias"
      ],
      "metadata": {
        "id": "aZ6Im_TISPhR"
      },
      "execution_count": 5,
      "outputs": []
    },
    {
      "cell_type": "code",
      "source": [
        "import pandas as pd\n",
        "ciudades=pd.read_csv('ciudades_latlon_2023.csv')"
      ],
      "metadata": {
        "id": "BDNK1aR5hjvh"
      },
      "execution_count": 24,
      "outputs": []
    },
    {
      "cell_type": "code",
      "source": [
        "from selenium.webdriver.support.ui import WebDriverWait\n",
        "from selenium.webdriver.support import expected_conditions as EC\n",
        "from selenium.webdriver.common.by import By\n",
        "from seleniumbase import Driver\n",
        "import time\n",
        "\n",
        "def take_image(X):\n",
        "  # Iniciar el driver\n",
        "  driver = Driver(uc=True)\n",
        "  lat=str(ciudades.Latitude[X])\n",
        "  lon=str(ciudades.Longitude[X])\n",
        "  # Cargar la página\n",
        "  url = f\"https://earth.google.com/web/@{lat},{lon},20a,200000d,1y,-0h,0t,0r/data=CgRCAggBOgMKATBCAggASg0I____________ARAA\"\n",
        "  driver.get(url)\n",
        "\n",
        "  start_time = time.time()\n",
        "  while time.time() - start_time < 60:\n",
        "      pass\n",
        "\n",
        "  # Tomar captura de pantalla\n",
        "  screenshot_name = ciudades.City[X]+\".png\"\n",
        "  driver.save_screenshot(screenshot_name)\n",
        "  print(f\"\\nScreenshot saved to: {screenshot_name}\")\n",
        "\n",
        "  driver.quit()"
      ],
      "metadata": {
        "id": "vtFzeQb6S1_c"
      },
      "execution_count": 44,
      "outputs": []
    },
    {
      "cell_type": "code",
      "source": [
        "take_image(0)"
      ],
      "metadata": {
        "colab": {
          "base_uri": "https://localhost:8080/"
        },
        "id": "Mf977FBKoYor",
        "outputId": "b10d21d5-679f-406d-8a01-17b8a307a9b7"
      },
      "execution_count": 55,
      "outputs": [
        {
          "output_type": "stream",
          "name": "stdout",
          "text": [
            "\n",
            "Screenshot saved to: AR: Capital Federal-Ciudad de Buenos Aires.png\n"
          ]
        }
      ]
    },
    {
      "cell_type": "code",
      "source": [
        "import numpy as np\n",
        "import cv2\n",
        "from tensorflow.keras.applications.resnet50 import ResNet50, preprocess_input\n",
        "from tensorflow.keras.preprocessing import image\n",
        "from sklearn.metrics.pairwise import cosine_similarity\n",
        "\n",
        "# Cargar modelo ResNet50 preentrenado\n",
        "model = ResNet50(weights=\"imagenet\", include_top=False, pooling=\"avg\")\n",
        "\n",
        "def extract_features(img_array):\n",
        "    \"\"\"Extrae características profundas usando ResNet50.\"\"\"\n",
        "    img_array = np.expand_dims(img_array, axis=0)\n",
        "    img_array = preprocess_input(img_array)\n",
        "    features = model.predict(img_array)\n",
        "    return features.flatten()\n",
        "\n",
        "def compute_inequality_score(img_path, grid_size=4):\n",
        "    \"\"\"Divide la imagen en cuadrantes y mide desigualdad en función de las diferencias de características.\"\"\"\n",
        "\n",
        "    img = image.load_img(img_path, target_size=(224, 224))  # Redimensionar la imagen\n",
        "    img_array = image.img_to_array(img)\n",
        "\n",
        "    # Dividir en cuadrantes\n",
        "    h, w, _ = img_array.shape\n",
        "    step_h, step_w = h // grid_size, w // grid_size\n",
        "    features_list = []\n",
        "\n",
        "    for i in range(grid_size):\n",
        "        for j in range(grid_size):\n",
        "            sub_img = img_array[i*step_h:(i+1)*step_h, j*step_w:(j+1)*step_w, :]\n",
        "            features = extract_features(sub_img)\n",
        "            features_list.append(features)\n",
        "\n",
        "    features_list = np.array(features_list)\n",
        "\n",
        "    # Calcular diferencias entre cuadrantes\n",
        "    similarity_matrix = cosine_similarity(features_list)\n",
        "    avg_similarity = np.mean(similarity_matrix)\n",
        "\n",
        "    # Convertir a escala de desigualdad (0 = homogéneo, 100 = muy desigual)\n",
        "    inequality_score = (1 - avg_similarity) * 100\n",
        "\n",
        "    return round(inequality_score, 2)\n",
        "\n",
        "# Ejemplo de uso\n",
        "img_path = ciudades.City[0]+\".png\"\n",
        "score = compute_inequality_score(img_path)\n",
        "print(f\"Índice de desigualdad estimado: {score}/100\")"
      ],
      "metadata": {
        "colab": {
          "base_uri": "https://localhost:8080/"
        },
        "id": "n-HBGpJGQ_YC",
        "outputId": "3ed196c7-5751-48b4-d32e-1230f48baf2b"
      },
      "execution_count": 59,
      "outputs": [
        {
          "output_type": "stream",
          "name": "stdout",
          "text": [
            "\u001b[1m1/1\u001b[0m \u001b[32m━━━━━━━━━━━━━━━━━━━━\u001b[0m\u001b[37m\u001b[0m \u001b[1m3s\u001b[0m 3s/step\n",
            "\u001b[1m1/1\u001b[0m \u001b[32m━━━━━━━━━━━━━━━━━━━━\u001b[0m\u001b[37m\u001b[0m \u001b[1m0s\u001b[0m 71ms/step\n",
            "\u001b[1m1/1\u001b[0m \u001b[32m━━━━━━━━━━━━━━━━━━━━\u001b[0m\u001b[37m\u001b[0m \u001b[1m0s\u001b[0m 69ms/step\n",
            "\u001b[1m1/1\u001b[0m \u001b[32m━━━━━━━━━━━━━━━━━━━━\u001b[0m\u001b[37m\u001b[0m \u001b[1m0s\u001b[0m 69ms/step\n",
            "\u001b[1m1/1\u001b[0m \u001b[32m━━━━━━━━━━━━━━━━━━━━\u001b[0m\u001b[37m\u001b[0m \u001b[1m0s\u001b[0m 67ms/step\n",
            "\u001b[1m1/1\u001b[0m \u001b[32m━━━━━━━━━━━━━━━━━━━━\u001b[0m\u001b[37m\u001b[0m \u001b[1m0s\u001b[0m 82ms/step\n",
            "\u001b[1m1/1\u001b[0m \u001b[32m━━━━━━━━━━━━━━━━━━━━\u001b[0m\u001b[37m\u001b[0m \u001b[1m0s\u001b[0m 68ms/step\n",
            "\u001b[1m1/1\u001b[0m \u001b[32m━━━━━━━━━━━━━━━━━━━━\u001b[0m\u001b[37m\u001b[0m \u001b[1m0s\u001b[0m 68ms/step\n",
            "\u001b[1m1/1\u001b[0m \u001b[32m━━━━━━━━━━━━━━━━━━━━\u001b[0m\u001b[37m\u001b[0m \u001b[1m0s\u001b[0m 69ms/step\n",
            "\u001b[1m1/1\u001b[0m \u001b[32m━━━━━━━━━━━━━━━━━━━━\u001b[0m\u001b[37m\u001b[0m \u001b[1m0s\u001b[0m 67ms/step\n",
            "\u001b[1m1/1\u001b[0m \u001b[32m━━━━━━━━━━━━━━━━━━━━\u001b[0m\u001b[37m\u001b[0m \u001b[1m0s\u001b[0m 68ms/step\n",
            "\u001b[1m1/1\u001b[0m \u001b[32m━━━━━━━━━━━━━━━━━━━━\u001b[0m\u001b[37m\u001b[0m \u001b[1m0s\u001b[0m 66ms/step\n",
            "\u001b[1m1/1\u001b[0m \u001b[32m━━━━━━━━━━━━━━━━━━━━\u001b[0m\u001b[37m\u001b[0m \u001b[1m0s\u001b[0m 76ms/step\n",
            "\u001b[1m1/1\u001b[0m \u001b[32m━━━━━━━━━━━━━━━━━━━━\u001b[0m\u001b[37m\u001b[0m \u001b[1m0s\u001b[0m 83ms/step\n",
            "\u001b[1m1/1\u001b[0m \u001b[32m━━━━━━━━━━━━━━━━━━━━\u001b[0m\u001b[37m\u001b[0m \u001b[1m0s\u001b[0m 72ms/step\n",
            "\u001b[1m1/1\u001b[0m \u001b[32m━━━━━━━━━━━━━━━━━━━━\u001b[0m\u001b[37m\u001b[0m \u001b[1m0s\u001b[0m 72ms/step\n",
            "Índice de desigualdad estimado: 43.68000030517578/100\n"
          ]
        }
      ]
    }
  ]
}