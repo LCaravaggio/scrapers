{
  "nbformat": 4,
  "nbformat_minor": 0,
  "metadata": {
    "colab": {
      "name": "Coto.ipynb",
      "provenance": [],
      "authorship_tag": "ABX9TyNSVP8YbPWNf4oRViOF9Nua",
      "include_colab_link": true
    },
    "kernelspec": {
      "name": "python3",
      "display_name": "Python 3"
    }
  },
  "cells": [
    {
      "cell_type": "markdown",
      "metadata": {
        "id": "view-in-github",
        "colab_type": "text"
      },
      "source": [
        "<a href=\"https://colab.research.google.com/github/LCaravaggio/scrapers/blob/master/Coto.ipynb\" target=\"_parent\"><img src=\"https://colab.research.google.com/assets/colab-badge.svg\" alt=\"Open In Colab\"/></a>"
      ]
    },
    {
      "cell_type": "code",
      "metadata": {
        "id": "V0-NytUBXaqS",
        "colab_type": "code",
        "colab": {}
      },
      "source": [
        "from bs4 import BeautifulSoup\n",
        "import requests\n",
        "import time\n",
        "import datetime "
      ],
      "execution_count": null,
      "outputs": []
    },
    {
      "cell_type": "code",
      "metadata": {
        "id": "1Q4Kk98HXexB",
        "colab_type": "code",
        "colab": {}
      },
      "source": [
        "listacorta={\n",
        "\"https://www.cotodigital3.com.ar/sitios/cdigi/producto/-galldulces-acaramelada-vocacion-paq-150-grm/_/A-00126515-00126515-200\", \n",
        "\"https://www.cotodigital3.com.ar/sitios/cdigi/producto/-galldulces-chocolat-lincoln-paq-153-grm/_/A-00182769-00182769-200\"}"
      ],
      "execution_count": null,
      "outputs": []
    },
    {
      "cell_type": "code",
      "metadata": {
        "id": "TIAWdmU6Xh5b",
        "colab_type": "code",
        "colab": {}
      },
      "source": [
        "a=\"\"\n",
        "for l in listacorta: \n",
        "\ttry:\n",
        "\t\tr = requests.get(l)\n",
        "\t\tsoup = BeautifulSoup(r.content, 'html.parser')\n",
        "\t\tprint(l)\n",
        "\t\ta = a + l + \";\"\n",
        "\t\ta = a + soup.find_all('h1', {'class':'product_page'})[0].text.replace(\" \",\"\").replace(\"\\n\",\"\").replace(\"\\r\",\"\") + \";\" \n",
        "\t\ta = a + soup.find_all('span', {'class':'atg_store_newPrice'})[1].text.replace(\"$\",\"\").replace(\" \",\"\").replace(\"\\n\",\"\").replace(\"\\r\",\"\").replace(\"PRECIOCONTADO\",\"\") + \"\\n\" \n",
        "\texcept:\n",
        "\t\tprint(\"error\")\n",
        "\t\ta = a +  \"\\n\" "
      ],
      "execution_count": null,
      "outputs": []
    },
    {
      "cell_type": "code",
      "metadata": {
        "id": "M05Kk8lLXllO",
        "colab_type": "code",
        "colab": {}
      },
      "source": [
        "now = datetime.datetime.now()\n",
        "nw=str(now.strftime(\"%Y-%m-%d %H-%M-%S\"))\n",
        "#print(nw)\n",
        "with open('Coto ' + nw + '.csv', 'w', newline=\"\\n\", encoding='ISO-8859-1') as f:\n",
        "\tf.write(a)\n",
        "f.close"
      ],
      "execution_count": null,
      "outputs": []
    }
  ]
}