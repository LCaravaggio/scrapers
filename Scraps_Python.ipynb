{
  "nbformat": 4,
  "nbformat_minor": 0,
  "metadata": {
    "colab": {
      "provenance": [],
      "authorship_tag": "ABX9TyNDs9wCRntArUnW2hKzLz6O",
      "include_colab_link": true
    },
    "kernelspec": {
      "name": "python3",
      "display_name": "Python 3"
    },
    "language_info": {
      "name": "python"
    }
  },
  "cells": [
    {
      "cell_type": "markdown",
      "metadata": {
        "id": "view-in-github",
        "colab_type": "text"
      },
      "source": [
        "<a href=\"https://colab.research.google.com/github/LCaravaggio/scrapers/blob/master/Scraps_Python.ipynb\" target=\"_parent\"><img src=\"https://colab.research.google.com/assets/colab-badge.svg\" alt=\"Open In Colab\"/></a>"
      ]
    },
    {
      "cell_type": "code",
      "source": [
        "from bs4 import BeautifulSoup\n",
        "import pandas as pd\n",
        "import requests\n",
        "from urllib.request import urlopen, Request\n",
        "import datetime "
      ],
      "metadata": {
        "id": "pG5D7AZQpmo9"
      },
      "execution_count": 6,
      "outputs": []
    },
    {
      "cell_type": "code",
      "execution_count": 22,
      "metadata": {
        "id": "4w6IkoeEpfyr"
      },
      "outputs": [],
      "source": [
        "def scrapvea(sitevea):\n",
        "    try:\n",
        "      r = requests.get(sitevea)\n",
        "      b=\"\" \n",
        "      soup = BeautifulSoup(r.content, 'html.parser')\n",
        "      b+=soup.find('span', {'class':'vtex-store-components-3-x-productBrand'}).text.replace(\" \",\"\").replace(\"\\n\",\"\").replace(\"\\r\",\"\") + \";\"\n",
        "      ini=str(soup).find('\"teasers\":[],\"Price\":')\n",
        "      fin=str(soup).find(',\"ListPrice\":')\n",
        "      b+=str(soup)[ini+21:fin]\n",
        "      return b\n",
        "    except Exception as e:\n",
        "      return \"no se pudo acceder a VER\"\n",
        "\n",
        "\n",
        "def scrapcoto(sitecoto):\n",
        "    r = requests.get(sitecoto)\n",
        "    b=\"\"\n",
        "    soup = BeautifulSoup(r.content, 'html.parser')\n",
        "    b+=soup.find(\"h1\", {\"class\": \"product_page\"}).text.replace(\" \",\"\").replace(\"\\n\",\"\").replace(\"\\r\",\"\").replace(\";\",\"\").replace(\"\\t\",\"\") + \";\"     \n",
        "    b+=soup.find(\"span\", {\"class\": \"atg_store_newPrice\"}).text.replace(\"$\",\"\").replace(\" \",\"\").replace(\"\\n\",\"\").replace(\"\\r\",\"\").replace(\"\\t\",\"\").replace(\"PRECIOCONTADO\",\"\").replace(\"PRECIOREGULAR\",\"\") \n",
        "    return b\n",
        "\n",
        "def scrapcarrefour(sitecarrefour):\n",
        "    r = requests.get(sitecarrefour)\n",
        "    b=\"\"\n",
        "    \n",
        "    soup = BeautifulSoup(r.content, 'html.parser')\n",
        "    ini=str(soup).find('=\"og:type\"/><meta content=\"')\n",
        "    fin=str(soup).find('\" data-react-helmet=\"true\" property=\"og:title\"/><meta ')\n",
        "    b+=str(soup)[ini+27:fin]\n",
        "    \n",
        "    b+=\";\"\n",
        "    ini=str(soup).find('\"typename\":\"Teaser\"}],\"Price\":')\n",
        "    fin=str(soup).find(',\"ListPrice\":')\n",
        "    b+=str(soup)[ini+30:fin]\n",
        "\n",
        "    return b\n",
        "\n",
        "def scrapdia(sitedia):\n",
        "    r = requests.get(sitedia)\n",
        "    b=\"\"\n",
        "    \n",
        "    soup = BeautifulSoup(r.content, 'html.parser')\n",
        "    ini=str(soup).find(',\"name\":\"')\n",
        "    fin=str(soup).find('\",\"brand\":{\"@type\":')\n",
        "    b+=str(soup)[ini+9:fin]\n",
        "    b+=\";\"\n",
        "    ini=str(soup).find('\"product:availability\"/><meta content=\"')\n",
        "    fin=str(soup).find('\" data-react-helmet=\"true\" property=\"product:price:amount\"/>')\n",
        "    if fin!=-1: b+=str(soup)[ini+39:fin]\n",
        "    \n",
        "    return b\n"
      ]
    },
    {
      "cell_type": "code",
      "source": [
        "lista=['https://www.vea.com.ar/hamburguesa-swift-de-carne-4-u-320-gr/p']"
      ],
      "metadata": {
        "colab": {
          "base_uri": "https://localhost:8080/"
        },
        "id": "OFsIOHg2pzMw",
        "outputId": "ed825c2b-7c56-407f-dec2-366ea8caf2d4"
      },
      "execution_count": 7,
      "outputs": [
        {
          "output_type": "stream",
          "name": "stdout",
          "text": [
            "HamburguesaSwiftDeCarne4U-320Gr;708\n"
          ]
        }
      ]
    },
    {
      "cell_type": "code",
      "source": [
        "for l in lista: \n",
        "  if l[:19]== 'https://www.vea.com': print(scrapvea(l))\n"
      ],
      "metadata": {
        "colab": {
          "base_uri": "https://localhost:8080/"
        },
        "id": "_jeJNkJ_rpAD",
        "outputId": "a2ea9412-a373-4412-d866-89c2faf1ae59"
      },
      "execution_count": 23,
      "outputs": [
        {
          "output_type": "stream",
          "name": "stdout",
          "text": [
            "HamburguesaSwiftDeCarne4U-320Gr;708\n"
          ]
        }
      ]
    }
  ]
}