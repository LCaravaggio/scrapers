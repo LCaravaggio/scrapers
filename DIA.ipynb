{
  "nbformat": 4,
  "nbformat_minor": 0,
  "metadata": {
    "colab": {
      "name": "DIA.ipynb",
      "provenance": [],
      "authorship_tag": "ABX9TyNQFC2IkG96mPlVeZB1I0ZK",
      "include_colab_link": true
    },
    "kernelspec": {
      "name": "python3",
      "display_name": "Python 3"
    },
    "language_info": {
      "name": "python"
    }
  },
  "cells": [
    {
      "cell_type": "markdown",
      "metadata": {
        "id": "view-in-github",
        "colab_type": "text"
      },
      "source": [
        "<a href=\"https://colab.research.google.com/github/LCaravaggio/scrapers/blob/master/DIA.ipynb\" target=\"_parent\"><img src=\"https://colab.research.google.com/assets/colab-badge.svg\" alt=\"Open In Colab\"/></a>"
      ]
    },
    {
      "cell_type": "code",
      "metadata": {
        "id": "eWIbvtdHf4PF"
      },
      "source": [
        "import pandas as pd\n",
        "import requests\n",
        "\n",
        "import datetime \n",
        "from bs4 import BeautifulSoup"
      ],
      "execution_count": 1,
      "outputs": []
    },
    {
      "cell_type": "code",
      "metadata": {
        "id": "Cy9RQ5V3f76h"
      },
      "source": [
        "def scrapdia(site):\n",
        "    r = requests.get(site)\n",
        "    b=\"\"\n",
        "    \n",
        "    soup = BeautifulSoup(r.content, 'html.parser')\n",
        "    ini=str(soup).find(',\"name\":\"')\n",
        "    fin=str(soup).find('\",\"brand\":{\"@type\":')\n",
        "    b+=str(soup)[ini+9:fin]\n",
        "    b+=\";\"\n",
        "    ini=str(soup).find('\"product:availability\"/><meta content=\"')\n",
        "    fin=str(soup).find('\" data-react-helmet=\"true\" property=\"product:price:amount\"/>')\n",
        "    if fin!=-1: b+=str(soup)[ini+39:fin]\n",
        "    \n",
        "    return b"
      ],
      "execution_count": 21,
      "outputs": []
    },
    {
      "cell_type": "code",
      "metadata": {
        "colab": {
          "base_uri": "https://localhost:8080/"
        },
        "id": "95_N2pq8gZZW",
        "outputId": "55a279a4-5cad-4504-929f-aa1b2c059e89"
      },
      "source": [
        "lista=[\n",
        "       \"https://diaonline.supermercadosdia.com.ar/pure-de-tomate-dia-520-gr-34593/p\",\n",
        "       \"https://diaonline.supermercadosdia.com.ar/cuadril-envasado-al-vacio-porcion-individual-x-1-kg-266999/p\",\n",
        "       \"https://diaonline.supermercadosdia.com.ar/arroz-parbolizado-dia-1-kg-24234/p\"\n",
        "       ]\n",
        "\n",
        "roto=[\"https://diaonline.supermercadosdia.com.ar/lavandina-concentrada-dia-2-lts-33181/p\", \n",
        "      \"https://diaonline.supermercadosdia.com.ar/arroz-parbolizado-dia-1-kg-24234/p\"]\n",
        "\n",
        "\n",
        "a=\"\"\n",
        "for l in roto: \n",
        "  a+=l+\";\"+scrapdia(l)+\"\\n\"\n",
        "\n",
        "now = datetime.datetime.now()\n",
        "nw=str(now.strftime(\"%Y-%m-%d %H-%M-%S\"))\n",
        "\n",
        "#with open('DIA ' + nw + '.csv', 'w', newline=\"\\n\", encoding='ISO-8859-1') as f:#\n",
        "#\tf.write(a)\n",
        "#f.close\n",
        "\n",
        "print(a)"
      ],
      "execution_count": 23,
      "outputs": [
        {
          "output_type": "stream",
          "name": "stdout",
          "text": [
            "https://diaonline.supermercadosdia.com.ar/lavandina-concentrada-dia-2-lts-33181/p;Lavandina Concentrada DIA 2 Lts.;\n",
            "https://diaonline.supermercadosdia.com.ar/arroz-parbolizado-dia-1-kg-24234/p;Arroz Parbolizado DIA 1 Kg.;154.83\n",
            "\n"
          ]
        }
      ]
    }
  ]
}