{
  "nbformat": 4,
  "nbformat_minor": 0,
  "metadata": {
    "colab": {
      "name": "DIA.ipynb",
      "provenance": [],
      "authorship_tag": "ABX9TyNCcfJw+GM6uThcyPfuM8RE",
      "include_colab_link": true
    },
    "kernelspec": {
      "name": "python3",
      "display_name": "Python 3"
    },
    "language_info": {
      "name": "python"
    }
  },
  "cells": [
    {
      "cell_type": "markdown",
      "metadata": {
        "id": "view-in-github",
        "colab_type": "text"
      },
      "source": [
        "<a href=\"https://colab.research.google.com/github/LCaravaggio/scrapers/blob/master/DIA.ipynb\" target=\"_parent\"><img src=\"https://colab.research.google.com/assets/colab-badge.svg\" alt=\"Open In Colab\"/></a>"
      ]
    },
    {
      "cell_type": "code",
      "metadata": {
        "id": "eWIbvtdHf4PF"
      },
      "source": [
        "import pandas as pd\n",
        "import requests\n",
        "\n",
        "import datetime \n",
        "from bs4 import BeautifulSoup"
      ],
      "execution_count": 1,
      "outputs": []
    },
    {
      "cell_type": "code",
      "metadata": {
        "id": "Cy9RQ5V3f76h"
      },
      "source": [
        "def scrapdia(site):\n",
        "    r = requests.get(site)\n",
        "    b=\"\"\n",
        "    \n",
        "    soup = BeautifulSoup(r.content, 'html.parser')\n",
        "    ini=str(soup).find('},\"productName\":\"')\n",
        "    fin=str(soup).find('\",\"productBrandId\":')\n",
        "    b+=str(soup)[ini+17:fin]\n",
        "    b+=\";\"\n",
        "    ini=str(soup).find('bestPriceFormated\":\"')\n",
        "    fin=str(soup).find('\",\"bestPrice')\n",
        "    b+=str(soup)[ini+22:fin]\n",
        "    \n",
        "    return b"
      ],
      "execution_count": 14,
      "outputs": []
    },
    {
      "cell_type": "code",
      "metadata": {
        "colab": {
          "base_uri": "https://localhost:8080/"
        },
        "id": "95_N2pq8gZZW",
        "outputId": "2463d008-2d65-4c53-dc35-02129b57e4c7"
      },
      "source": [
        "lista=[\n",
        "       \"https://diaonline.supermercadosdia.com.ar/pure-de-tomate-dia-520-gr-34593/p\",\n",
        "       \"https://diaonline.supermercadosdia.com.ar/cuadril-envasado-al-vacio-porcion-individual-x-1-kg-266999/p\"\n",
        "       ]\n",
        "\n",
        "a=\"\"\n",
        "for l in lista: \n",
        "  a+=l+\";\"+scrapdia(l)+\"\\n\"\n",
        "\n",
        "now = datetime.datetime.now()\n",
        "nw=str(now.strftime(\"%Y-%m-%d %H-%M-%S\"))\n",
        "\n",
        "with open('DIA ' + nw + '.csv', 'w', newline=\"\\n\", encoding='ISO-8859-1') as f:\n",
        "\tf.write(a)\n",
        "f.close\n",
        "\n",
        "print(a)"
      ],
      "execution_count": 15,
      "outputs": [
        {
          "output_type": "stream",
          "name": "stdout",
          "text": [
            "https://diaonline.supermercadosdia.com.ar/pure-de-tomate-dia-520-gr-34593/p;Puré de Tomate DIA 520 Gr.;60,00\n",
            "https://diaonline.supermercadosdia.com.ar/cuadril-envasado-al-vacio-porcion-individual-x-1-kg-266999/p;Cuadril Envasado al Vacío Porción Individual x 1 Kg.;1.385,00\n",
            "\n"
          ]
        }
      ]
    }
  ]
}