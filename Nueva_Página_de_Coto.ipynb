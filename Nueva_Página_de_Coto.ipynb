{
  "nbformat": 4,
  "nbformat_minor": 0,
  "metadata": {
    "colab": {
      "provenance": [],
      "authorship_tag": "ABX9TyPdDVkW+Gnubh8QUveXkje+",
      "include_colab_link": true
    },
    "kernelspec": {
      "name": "python3",
      "display_name": "Python 3"
    },
    "language_info": {
      "name": "python"
    }
  },
  "cells": [
    {
      "cell_type": "markdown",
      "metadata": {
        "id": "view-in-github",
        "colab_type": "text"
      },
      "source": [
        "<a href=\"https://colab.research.google.com/github/LCaravaggio/scrapers/blob/master/Nueva_P%C3%A1gina_de_Coto.ipynb\" target=\"_parent\"><img src=\"https://colab.research.google.com/assets/colab-badge.svg\" alt=\"Open In Colab\"/></a>"
      ]
    },
    {
      "cell_type": "code",
      "source": [
        "%%capture\n",
        "!pip install -U seleniumbase\n",
        "!wget https://dl.google.com/linux/direct/google-chrome-stable_current_amd64.deb\n",
        "!sudo dpkg -i google-chrome-stable_current_amd64.deb\n",
        "!sudo apt-get install -f\n",
        "\n",
        "from seleniumbase import Driver\n",
        "from seleniumbase import page_actions\n",
        "\n",
        "driver = Driver(uc=True)\n",
        "driver.get(\"https://api.cotodigital.com.ar/sitios/cdigi/productos/pate-foie-swift-90g/_/R-00002644-00002644-200\")"
      ],
      "metadata": {
        "id": "xwQbg1EhxEW7"
      },
      "execution_count": 1,
      "outputs": []
    },
    {
      "cell_type": "code",
      "source": [
        "from selenium.webdriver.common.by import By\n",
        "element = driver.find_element(By.XPATH, '/html/body/app-root/app-main/app-layout-render/dynamic-loader/general-slot/dynamic-loader/app-product-landing-page/section/div/div/dynamic-loader/app-product-detail/div/aside/div/article/h2')\n",
        "\n",
        "print(element.text)"
      ],
      "metadata": {
        "colab": {
          "base_uri": "https://localhost:8080/"
        },
        "id": "QnnuvrtUwwvN",
        "outputId": "0c962fd8-fa27-47f6-fc15-d69952bc3c83"
      },
      "execution_count": 3,
      "outputs": [
        {
          "output_type": "stream",
          "name": "stdout",
          "text": [
            "Pate Foie SWIFT 90g\n"
          ]
        }
      ]
    },
    {
      "cell_type": "code",
      "source": [
        "element = driver.find_element(By.XPATH, '/html/body/app-root/app-main/app-layout-render/dynamic-loader/general-slot/dynamic-loader/app-product-landing-page/section/div/div/dynamic-loader/app-product-detail/div/aside/div/article/div[2]/div[1]/var')\n",
        "\n",
        "print(element.text)"
      ],
      "metadata": {
        "colab": {
          "base_uri": "https://localhost:8080/"
        },
        "id": "so3W5Wp3z_7E",
        "outputId": "d3204188-22df-45e7-d0b0-b1a8d8ffeac0"
      },
      "execution_count": 4,
      "outputs": [
        {
          "output_type": "stream",
          "name": "stdout",
          "text": [
            "$ 838,99\n"
          ]
        }
      ]
    }
  ]
}