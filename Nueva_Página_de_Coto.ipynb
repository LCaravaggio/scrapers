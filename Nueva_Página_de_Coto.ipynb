{
  "nbformat": 4,
  "nbformat_minor": 0,
  "metadata": {
    "colab": {
      "provenance": [],
      "authorship_tag": "ABX9TyNRKAsZes7TehRJYxQV7W4e",
      "include_colab_link": true
    },
    "kernelspec": {
      "name": "python3",
      "display_name": "Python 3"
    },
    "language_info": {
      "name": "python"
    }
  },
  "cells": [
    {
      "cell_type": "markdown",
      "metadata": {
        "id": "view-in-github",
        "colab_type": "text"
      },
      "source": [
        "<a href=\"https://colab.research.google.com/github/LCaravaggio/scrapers/blob/master/Nueva_P%C3%A1gina_de_Coto.ipynb\" target=\"_parent\"><img src=\"https://colab.research.google.com/assets/colab-badge.svg\" alt=\"Open In Colab\"/></a>"
      ]
    },
    {
      "cell_type": "code",
      "source": [
        "%%capture\n",
        "!pip install -U seleniumbase\n",
        "!wget https://dl.google.com/linux/direct/google-chrome-stable_current_amd64.deb\n",
        "!sudo dpkg -i google-chrome-stable_current_amd64.deb\n",
        "!sudo apt-get install -f"
      ],
      "metadata": {
        "id": "xwQbg1EhxEW7"
      },
      "execution_count": 1,
      "outputs": []
    },
    {
      "cell_type": "code",
      "source": [
        "from seleniumbase import Driver\n",
        "from seleniumbase import page_actions"
      ],
      "metadata": {
        "id": "HuKqmP6cUw5h"
      },
      "execution_count": 2,
      "outputs": []
    },
    {
      "cell_type": "code",
      "source": [
        "from selenium.webdriver.common.by import By\n",
        "from selenium.webdriver.support.ui import WebDriverWait\n",
        "from selenium.webdriver.support import expected_conditions as EC\n",
        "import re\n",
        "\n",
        "def scrapcoto(sitecoto, driver):\n",
        "    try:\n",
        "        driver.get(sitecoto)\n",
        "        wait = WebDriverWait(driver, 12)  # Esperar hasta 12s antes de fallar\n",
        "\n",
        "        # Intentar obtener el nombre del producto\n",
        "        try:\n",
        "            nombre = wait.until(EC.presence_of_element_located((By.XPATH,\n",
        "                '//app-product-detail//aside//h2'))).text\n",
        "        except:\n",
        "            nombre = \"N/A\"\n",
        "\n",
        "        # Intentar obtener el precio\n",
        "        xpaths_precio = [\n",
        "            '//app-product-detail/div/aside/div/article/div[2]/div[2]',\n",
        "            '//app-product-detail/div/aside/div/article/div[2]/div[3]',\n",
        "            '//app-product-detail//aside//div/article/div[2]/div[2]',\n",
        "            '//app-product-detail//aside//div/article/div[3]/div[2]/div[2]/var',\n",
        "            '//app-product-detail//aside//div/article/div[2]/div[2]/div[3]/var'\n",
        "        ]\n",
        "\n",
        "        precio = \"N/A\"\n",
        "        for xpath in xpaths_precio:\n",
        "          try:\n",
        "            elemento = driver.find_element(By.XPATH, xpath)\n",
        "            texto = elemento.text\n",
        "            if \"Precio contado :\" in texto:\n",
        "              precio = texto\n",
        "              break  # Detener el bucle una vez encontrado\n",
        "\n",
        "          except:\n",
        "            continue  # Si no encuentra el elemento, pasa al siguiente\n",
        "\n",
        "        # Limpiar el precio\n",
        "\n",
        "        precio = re.sub(r\"[\\$\\s\\n\\r\\t]|PRECIOCONTADO|PRECIOREGULAR|Precio contado :|p1Klgm|p1K|p1Klgmsu\", \"\", precio)\n",
        "\n",
        "        return f\"{nombre};{precio}\"\n",
        "\n",
        "    except Exception as e:\n",
        "        return f\"Error.\"\n"
      ],
      "metadata": {
        "id": "QLEsCDOOBHgu"
      },
      "execution_count": 97,
      "outputs": []
    },
    {
      "cell_type": "code",
      "source": [
        "import sys\n",
        "import datetime\n",
        "\n",
        "def corre(lista, nombre):\n",
        "  a=\"\"\n",
        "\n",
        "  start_time = time.time()\n",
        "  max_time = 6 * 60 * 60\n",
        "  bucle=1\n",
        "  driver = Driver(uc=True)\n",
        "\n",
        "  for l in lista:\n",
        "    if (bucle) % 100 == 0:\n",
        "      driver = Driver(uc=True)\n",
        "\n",
        "    a+= l + \";\"\n",
        "\n",
        "    sys.stdout.write(f\"\\rProcesando... {bucle}/{len(lista)+1}\")\n",
        "    sys.stdout.flush()\n",
        "    bucle+=1\n",
        "\n",
        "    a+=scrapcoto(l, driver)\n",
        "\n",
        "    a+=\"\\n\"\n",
        "\n",
        "    if time.time() - start_time > max_time:\n",
        "        print(\"Luego de 6 horas de intentos, el loop se interrumpe.\")\n",
        "        break\n",
        "\n",
        "  sys.stdout.write(\"\\r\" + \" \" * 30 + \"\\r\")\n",
        "  sys.stdout.flush()\n",
        "  sys.stdout.write(f\"Proceso finalizado.\")\n",
        "  sys.stdout.flush()\n",
        "\n",
        "  now = datetime.datetime.now()\n",
        "  nw=str(now.strftime(\"%Y-%m-%d %H-%M-%S\"))\n",
        "\n",
        "  nombre='/content/' + str(nombre) + ' ' + nw + '.csv'\n",
        "  with open(nombre, 'w', newline=\"\\n\", encoding='utf-8') as f:\n",
        "    f.write(a.replace('\\u2022', '*'))\n",
        "    f.close\n",
        "\n",
        "  sys.stdout.write(\"\\r\" + \" \" * 30 + \"\\r\")\n",
        "  sys.stdout.flush()\n",
        "  sys.stdout.write(f\"Se generó el archivo: {nombre}\")\n",
        "  sys.stdout.flush()"
      ],
      "metadata": {
        "id": "QnnuvrtUwwvN"
      },
      "execution_count": 78,
      "outputs": []
    },
    {
      "cell_type": "code",
      "source": [
        "with open('/content/coto.txt') as file:\n",
        "\n",
        "    lista = [line.rstrip() for line in file]\n",
        "    corre(lista, 'coto')"
      ],
      "metadata": {
        "id": "6Z6Vg02L1pJs",
        "outputId": "c2fc436b-f8d4-4982-ac90-462fa2585046",
        "colab": {
          "base_uri": "https://localhost:8080/"
        }
      },
      "execution_count": 101,
      "outputs": [
        {
          "output_type": "stream",
          "name": "stdout",
          "text": [
            "Se generó el archivo: /content/coto 2025-01-29 21-35-02.csv"
          ]
        }
      ]
    }
  ]
}