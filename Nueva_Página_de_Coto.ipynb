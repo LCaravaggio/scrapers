{
  "nbformat": 4,
  "nbformat_minor": 0,
  "metadata": {
    "colab": {
      "provenance": [],
      "authorship_tag": "ABX9TyPYiKlChOCsC+9UZYSVnjM6",
      "include_colab_link": true
    },
    "kernelspec": {
      "name": "python3",
      "display_name": "Python 3"
    },
    "language_info": {
      "name": "python"
    }
  },
  "cells": [
    {
      "cell_type": "markdown",
      "metadata": {
        "id": "view-in-github",
        "colab_type": "text"
      },
      "source": [
        "<a href=\"https://colab.research.google.com/github/LCaravaggio/scrapers/blob/master/Nueva_P%C3%A1gina_de_Coto.ipynb\" target=\"_parent\"><img src=\"https://colab.research.google.com/assets/colab-badge.svg\" alt=\"Open In Colab\"/></a>"
      ]
    },
    {
      "cell_type": "code",
      "source": [
        "%%capture\n",
        "!pip install -U seleniumbase\n",
        "!wget https://dl.google.com/linux/direct/google-chrome-stable_current_amd64.deb\n",
        "!sudo dpkg -i google-chrome-stable_current_amd64.deb\n",
        "!sudo apt-get install -f"
      ],
      "metadata": {
        "id": "xwQbg1EhxEW7"
      },
      "execution_count": 1,
      "outputs": []
    },
    {
      "cell_type": "code",
      "source": [
        "from seleniumbase import Driver\n",
        "from seleniumbase import page_actions"
      ],
      "metadata": {
        "id": "HuKqmP6cUw5h"
      },
      "execution_count": 2,
      "outputs": []
    },
    {
      "cell_type": "code",
      "source": [
        "from selenium.webdriver.common.by import By\n",
        "import time\n",
        "import random\n",
        "import datetime\n",
        "from selenium.webdriver.support.ui import WebDriverWait\n",
        "from selenium.webdriver.support import expected_conditions as EC\n",
        "\n",
        "\n",
        "def scrapcoto(sitecoto):\n",
        "    try:\n",
        "\n",
        "      driver.get(sitecoto)\n",
        "      time.sleep(5)\n",
        "\n",
        "      b=\"\"\n",
        "      try:\n",
        "        b+=driver.find_element(By.XPATH, '/html/body/app-root/app-main/app-layout-render/dynamic-loader/general-slot/dynamic-loader/app-product-landing-page/section/div/div/dynamic-loader/app-product-detail/div/aside/div/article/h2').text + \";\"\n",
        "      except:\n",
        "\n",
        "        try:\n",
        "          b+=driver.find_element(By.XPATH, '/html/body/app-root/app-main/app-layout-render/dynamic-loader/general-slot/dynamic-loader/app-product-landing-page/section/div/div/dynamic-loader/app-product-detail/div/aside/div/article/h2').text + \";\"\n",
        "        except:\n",
        "          b+=\"N/A\"+\";\"\n",
        "\n",
        "      try:\n",
        "        b+=driver.find_element(By.XPATH, '/html/body/app-root/app-main/app-layout-render/dynamic-loader/general-slot/dynamic-loader/app-product-landing-page/section/div/div/dynamic-loader/app-product-detail/div/aside/div/article/div[2]/div[3]/text()').text\n",
        "      except:\n",
        "        try:\n",
        "          b+=driver.find_element(By.XPATH, '/html/body/app-root/app-main/app-layout-render/dynamic-loader/general-slot/dynamic-loader/app-product-landing-page/section/div/div/dynamic-loader/app-product-detail/div/aside/div/article/div[2]/div[1]/var').text\n",
        "        except:\n",
        "          b+=driver.find_element(By.XPATH, '/html/body/app-root/app-main/app-layout-render/dynamic-loader/general-slot/dynamic-loader/app-product-landing-page/section/div/div/dynamic-loader/app-product-detail/div/aside/div/article/div[2]/div[2]/div[3]/var').text\n",
        "\n",
        "      b=b.replace(\"$\",\"\").replace(\" \",\"\").replace(\"\\n\",\"\").replace(\"\\r\",\"\").replace(\"\\t\",\"\").replace(\"PRECIOCONTADO\",\"\").replace(\"PRECIOREGULAR\",\"\")\n",
        "      return b\n",
        "\n",
        "    except Exception as e:\n",
        "      return \"Error\""
      ],
      "metadata": {
        "id": "QLEsCDOOBHgu"
      },
      "execution_count": 54,
      "outputs": []
    },
    {
      "cell_type": "code",
      "source": [
        "def corre(lista, nombre):\n",
        "  a=\"\"\n",
        "\n",
        "  start_time = time.time()\n",
        "  max_time = 6 * 60 * 60\n",
        "\n",
        "  for l in lista:\n",
        "    a+= l + \";\"\n",
        "\n",
        "\n",
        "    a+=scrapcoto(l)\n",
        "    #time.sleep(random.randrange(1, 3))\n",
        "    a+=\"\\n\"\n",
        "    #print(a)\n",
        "    site=l\n",
        "\n",
        "    if time.time() - start_time > max_time:\n",
        "        print(\"Luego de 6 horas de intentos, el loop se interrumpe.\")\n",
        "        break\n",
        "\n",
        "  now = datetime.datetime.now()\n",
        "  nw=str(now.strftime(\"%Y-%m-%d %H-%M-%S\"))\n",
        "\n",
        "  with open('/content/' + str(nombre) + ' ' + nw + '.csv', 'w', newline=\"\\n\", encoding='utf-8') as f:\n",
        "    f.write(a.replace('\\u2022', '*'))\n",
        "    f.close"
      ],
      "metadata": {
        "id": "QnnuvrtUwwvN"
      },
      "execution_count": 47,
      "outputs": []
    },
    {
      "cell_type": "code",
      "source": [
        "with open('/content/coto lista corta.txt') as file:\n",
        "    driver = Driver(uc=True)\n",
        "    lista = [line.rstrip() for line in file]\n",
        "    corre(lista, 'coto')"
      ],
      "metadata": {
        "id": "so3W5Wp3z_7E"
      },
      "execution_count": 48,
      "outputs": []
    }
  ]
}