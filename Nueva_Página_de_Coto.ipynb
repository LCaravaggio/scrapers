{
  "nbformat": 4,
  "nbformat_minor": 0,
  "metadata": {
    "colab": {
      "provenance": [],
      "authorship_tag": "ABX9TyNVRnva8NYb/3bTChscyolD",
      "include_colab_link": true
    },
    "kernelspec": {
      "name": "python3",
      "display_name": "Python 3"
    },
    "language_info": {
      "name": "python"
    }
  },
  "cells": [
    {
      "cell_type": "markdown",
      "metadata": {
        "id": "view-in-github",
        "colab_type": "text"
      },
      "source": [
        "<a href=\"https://colab.research.google.com/github/LCaravaggio/scrapers/blob/master/Nueva_P%C3%A1gina_de_Coto.ipynb\" target=\"_parent\"><img src=\"https://colab.research.google.com/assets/colab-badge.svg\" alt=\"Open In Colab\"/></a>"
      ]
    },
    {
      "cell_type": "code",
      "source": [
        "%%capture\n",
        "!pip install -U seleniumbase\n",
        "!wget https://dl.google.com/linux/direct/google-chrome-stable_current_amd64.deb\n",
        "!sudo dpkg -i google-chrome-stable_current_amd64.deb\n",
        "!sudo apt-get install -f\n",
        "\n",
        "from seleniumbase import Driver\n",
        "from seleniumbase import page_actions\n",
        "\n",
        "driver = Driver(uc=True)\n",
        "driver.get(\"https://api.cotodigital.com.ar/sitios/cdigi/productos/pate-foie-swift-90g/_/R-00002644-00002644-200\")"
      ],
      "metadata": {
        "id": "xwQbg1EhxEW7"
      },
      "execution_count": 8,
      "outputs": []
    },
    {
      "cell_type": "code",
      "source": [
        "from selenium.webdriver.common.by import By\n",
        "element = driver.find_element(By.XPATH, '/html/body/app-root/app-main/app-layout-render/dynamic-loader/general-slot/dynamic-loader/app-product-landing-page/section/div/div/dynamic-loader/app-product-detail/div/aside/div/article/div[2]/div[4]')\n",
        "\n",
        "print(element.text)"
      ],
      "metadata": {
        "colab": {
          "base_uri": "https://localhost:8080/"
        },
        "id": "QnnuvrtUwwvN",
        "outputId": "81048718-cdbf-4700-9098-7b214e4bd48b"
      },
      "execution_count": 10,
      "outputs": [
        {
          "output_type": "stream",
          "name": "stdout",
          "text": [
            "Precio contado : $ 838,99\n"
          ]
        }
      ]
    },
    {
      "cell_type": "code",
      "source": [
        "element = driver.find_element(By.XPATH, '/html/body/app-root/app-main/app-layout-render/dynamic-loader/general-slot/dynamic-loader/app-product-landing-page/section/div/div/dynamic-loader/app-product-detail/div/div[2]/div[1]/p')\n",
        "\n",
        "print(element.text)"
      ],
      "metadata": {
        "colab": {
          "base_uri": "https://localhost:8080/"
        },
        "id": "so3W5Wp3z_7E",
        "outputId": "94863934-964d-4327-aadb-160d7d0ba281"
      },
      "execution_count": 11,
      "outputs": [
        {
          "output_type": "stream",
          "name": "stdout",
          "text": [
            "Pate Foie SWIFT 90g\n"
          ]
        }
      ]
    }
  ]
}