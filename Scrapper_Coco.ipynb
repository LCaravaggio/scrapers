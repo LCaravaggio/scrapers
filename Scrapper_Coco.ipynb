{
  "nbformat": 4,
  "nbformat_minor": 0,
  "metadata": {
    "kernelspec": {
      "display_name": "Python 3",
      "language": "python",
      "name": "python3"
    },
    "language_info": {
      "codemirror_mode": {
        "name": "ipython",
        "version": 3
      },
      "file_extension": ".py",
      "mimetype": "text/x-python",
      "name": "python",
      "nbconvert_exporter": "python",
      "pygments_lexer": "ipython3",
      "version": "3.7.6"
    },
    "colab": {
      "name": "Scrapper Coco.ipynb",
      "provenance": [],
      "include_colab_link": true
    }
  },
  "cells": [
    {
      "cell_type": "markdown",
      "metadata": {
        "id": "view-in-github",
        "colab_type": "text"
      },
      "source": [
        "<a href=\"https://colab.research.google.com/github/LCaravaggio/scrapers/blob/master/Scrapper_Coco.ipynb\" target=\"_parent\"><img src=\"https://colab.research.google.com/assets/colab-badge.svg\" alt=\"Open In Colab\"/></a>"
      ]
    },
    {
      "cell_type": "code",
      "metadata": {
        "id": "-JSfoCd7_FRp"
      },
      "source": [
        "from bs4 import BeautifulSoup\n",
        "import requests\n",
        "import time\n",
        "from datetime import date, timedelta\n",
        "import shutil, sys"
      ],
      "execution_count": null,
      "outputs": []
    },
    {
      "cell_type": "code",
      "metadata": {
        "id": "XATMUNfv_FRq"
      },
      "source": [
        "def download(name, file):\n",
        "    image_url = name\n",
        "    filename=file+\".txt\"\n",
        "    # Open the url image, set stream to True, this will return the stream content.\n",
        "    r = requests.get(image_url, stream = True)\n",
        " \n",
        "    # Check if the image was retrieved successfully\n",
        "    if r.status_code == 200:\n",
        "        # Set decode_content value to True, otherwise the downloaded image file's size will be zero.\n",
        "        r.raw.decode_content = True\n",
        "    \n",
        "        # Open a local file with wb ( write binary ) permission.\n",
        "        with open(filename,'wb') as f:\n",
        "            shutil.copyfileobj(r.raw, f)\n",
        "        \n",
        "        print('Sucessfully Downloaded: ',file)\n",
        "    else:\n",
        "        print('Couldn\\'t be retreived')\n",
        "        print(name)\n",
        "        \n",
        "def daterange(start_date, end_date):\n",
        "    for n in range(int((end_date - start_date).days)):\n",
        "        yield start_date + timedelta(n)"
      ],
      "execution_count": null,
      "outputs": []
    },
    {
      "cell_type": "code",
      "metadata": {
        "colab": {
          "base_uri": "https://localhost:8080/"
        },
        "id": "5FnrcmPV_FRr",
        "outputId": "0655024d-1d6e-428e-d4a6-1a2e8e2084a6"
      },
      "source": [
        "start_date = date(2020, 1, 1)\n",
        "end_date = date(2020, 1, 2)\n",
        " \n",
        "for sd in daterange(start_date, end_date):    \n",
        "    file=sd.strftime(\"%Y\")+sd.strftime(\"%m\")+sd.strftime(\"%d\")\n",
        "    name=\"https://ssl.smn.gob.ar/dpd/descarga_opendata.php?file=observaciones/datohorario/\"+file+\".txt\"\n",
        "    download(name, file)"
      ],
      "execution_count": null,
      "outputs": [
        {
          "output_type": "stream",
          "text": [
            "Sucessfully Downloaded:  20200101\n"
          ],
          "name": "stdout"
        }
      ]
    }
  ]
}