{
  "nbformat": 4,
  "nbformat_minor": 0,
  "metadata": {
    "colab": {
      "provenance": [],
      "authorship_tag": "ABX9TyMaX4lnVYmxzCIUIMIxDq31",
      "include_colab_link": true
    },
    "kernelspec": {
      "name": "python3",
      "display_name": "Python 3"
    },
    "language_info": {
      "name": "python"
    }
  },
  "cells": [
    {
      "cell_type": "markdown",
      "metadata": {
        "id": "view-in-github",
        "colab_type": "text"
      },
      "source": [
        "<a href=\"https://colab.research.google.com/github/LCaravaggio/scrapers/blob/master/COTO_webdriver.ipynb\" target=\"_parent\"><img src=\"https://colab.research.google.com/assets/colab-badge.svg\" alt=\"Open In Colab\"/></a>"
      ]
    },
    {
      "cell_type": "code",
      "source": [
        "%pip install -q google-colab-selenium"
      ],
      "metadata": {
        "colab": {
          "base_uri": "https://localhost:8080/"
        },
        "id": "KNrdnQPMEgX5",
        "outputId": "82801c8f-8b54-4b5c-9468-1b121d11ce76"
      },
      "execution_count": 1,
      "outputs": [
        {
          "output_type": "stream",
          "name": "stdout",
          "text": [
            "\u001b[2K   \u001b[90m━━━━━━━━━━━━━━━━━━━━━━━━━━━━━━━━━━━━━━━━\u001b[0m \u001b[32m9.4/9.4 MB\u001b[0m \u001b[31m21.9 MB/s\u001b[0m eta \u001b[36m0:00:00\u001b[0m\n",
            "\u001b[2K   \u001b[90m━━━━━━━━━━━━━━━━━━━━━━━━━━━━━━━━━━━━━━━━\u001b[0m \u001b[32m476.0/476.0 kB\u001b[0m \u001b[31m19.7 MB/s\u001b[0m eta \u001b[36m0:00:00\u001b[0m\n",
            "\u001b[2K   \u001b[90m━━━━━━━━━━━━━━━━━━━━━━━━━━━━━━━━━━━━━━━━\u001b[0m \u001b[32m58.3/58.3 kB\u001b[0m \u001b[31m3.8 MB/s\u001b[0m eta \u001b[36m0:00:00\u001b[0m\n",
            "\u001b[?25h"
          ]
        }
      ]
    },
    {
      "cell_type": "code",
      "execution_count": 2,
      "metadata": {
        "id": "ZsAbkz2IENpY"
      },
      "outputs": [],
      "source": [
        "import google_colab_selenium as gs\n",
        "from selenium.webdriver.chrome.options import Options\n",
        "from bs4 import BeautifulSoup\n",
        "import time\n",
        "import random\n",
        "import datetime"
      ]
    },
    {
      "cell_type": "code",
      "source": [
        "def scrapcoto(source):\n",
        "    try:\n",
        "      soup = BeautifulSoup(source, 'html.parser')\n",
        "      b=\"\"\n",
        "\n",
        "      b+=soup.find(\"h1\", {\"class\": \"product_page\"}).text.replace(\" \",\"\").replace(\"\\n\",\"\").replace(\"\\r\",\"\").replace(\";\",\"\").replace(\"\\t\",\"\") + \";\"\n",
        "      try:\n",
        "        b+=soup.find(\"span\", {\"class\": \"atg_store_newPrice\"}).text.replace(\"$\",\"\").replace(\" \",\"\").replace(\"\\n\",\"\").replace(\"\\r\",\"\").replace(\"\\t\",\"\").replace(\"PRECIOCONTADO\",\"\").replace(\"PRECIOREGULAR\",\"\")\n",
        "      except:\n",
        "        try:\n",
        "          b+=soup.find(\"span\", {\"class\": \"price_regular_precio\"}).text.replace(\"$\",\"\").replace(\" \",\"\").replace(\"\\n\",\"\").replace(\"\\r\",\"\").replace(\"\\t\",\"\").replace(\"PRECIOCONTADO\",\"\").replace(\"PRECIOREGULAR\",\"\")\n",
        "        except:\n",
        "          b+=\"\"\n",
        "      #if soup.title.text == ' The URL you requested has been blocked ':\n",
        "        #time.sleep(20 * 60)\n",
        "\n",
        "      return b\n",
        "\n",
        "    except Exception as e:\n",
        "      return \"no se pudo acceder a COTO\""
      ],
      "metadata": {
        "id": "p_KW5VbdHnvO"
      },
      "execution_count": 3,
      "outputs": []
    },
    {
      "cell_type": "code",
      "source": [
        "def corre(lista, nombre):\n",
        "  a=\"\"\n",
        "  # Instantiate options\n",
        "  options = Options()\n",
        "  # Add extra options\n",
        "  options.add_argument(\"--window-size=1920,1080\")  # Set the window size\n",
        "  options.add_argument(\"--disable-infobars\")  # Disable the infobars\n",
        "  options.add_argument(\"--disable-popup-blocking\")  # Disable pop-ups\n",
        "  options.add_argument(\"--ignore-certificate-errors\")  # Ignore certificate errors\n",
        "  options.add_argument(\"--incognito\")  # Use Chrome in incognito mode\n",
        "  options.add_argument('--user-agent=\"Mozilla/5.0 (Windows Phone 10.0; Android 4.2.1; Microsoft; Lumia 640 XL LTE) AppleWebKit/537.36 (KHTML, like Gecko) Chrome/42.0.2311.135 Mobile Safari/537.36 Edge/12.10166\"')\n",
        "  driver = gs.Chrome(options=options)\n",
        "\n",
        "\n",
        "  for l in lista:\n",
        "    a+= l + \";\"\n",
        "    try:\n",
        "      driver.get(l)\n",
        "      a+=scrapcoto(driver.page_source)\n",
        "      time.sleep(random.randrange(10, 15))\n",
        "      a+=\"\\n\"\n",
        "    except:\n",
        "      a+=\"\\n\"\n",
        "      #site=l\n",
        "\n",
        "  driver.quit()\n",
        "  now = datetime.datetime.now()\n",
        "  nw=str(now.strftime(\"%Y-%m-%d %H-%M-%S\"))\n",
        "\n",
        "  with open('/content/' + str(nombre) + ' ' + nw + '.csv', 'w', newline=\"\\n\", encoding='utf-8') as f:\n",
        "    f.write(a.replace('\\u2022', '*'))\n",
        "    f.close"
      ],
      "metadata": {
        "id": "rWIcTfhXJ-M_"
      },
      "execution_count": 6,
      "outputs": []
    },
    {
      "cell_type": "code",
      "source": [
        "with open('/content/supermercadoscoto.txt') as file:\n",
        "    lista = [line.rstrip() for line in file]\n",
        "    corre(lista, 'coto')"
      ],
      "metadata": {
        "colab": {
          "base_uri": "https://localhost:8080/",
          "height": 38
        },
        "id": "J0mI26z_Kd9P",
        "outputId": "114f4df7-307e-4257-f7b7-fd468d724533"
      },
      "execution_count": 7,
      "outputs": [
        {
          "output_type": "display_data",
          "data": {
            "text/plain": [
              "<IPython.core.display.HTML object>"
            ],
            "text/html": [
              "\n",
              "            <div class=\"spinner-container\">\n",
              "                <div class=\"spinner\" id=\"fa9ff09d-d5e2-40cb-8e9f-d9034d600cf0-circle\"></div>\n",
              "                <div class=\"spinner-text\" id=\"fa9ff09d-d5e2-40cb-8e9f-d9034d600cf0-text\">Initializing Chromedriver</div>\n",
              "            </div>\n",
              "            <style>\n",
              "                @keyframes spin {\n",
              "                    from { transform: rotate(0deg); }\n",
              "                    to { transform: rotate(360deg); }\n",
              "                }\n",
              "\n",
              "                .spinner-container {\n",
              "                    display: flex;\n",
              "                    align-items: center;\n",
              "                    margin-bottom: 3px;\n",
              "                }\n",
              "\n",
              "                .spinner {\n",
              "                    border: 3px solid rgba(0, 0, 0, 0.1);\n",
              "                    border-left-color: lightblue;\n",
              "                    border-radius: 50%;\n",
              "                    width: 12px;\n",
              "                    height: 12px;\n",
              "                    animation: spin 1s linear infinite;\n",
              "                }\n",
              "\n",
              "                .spinner-text {\n",
              "                    padding-left: 6px;\n",
              "                }\n",
              "            </style>\n",
              "        "
            ]
          },
          "metadata": {}
        },
        {
          "output_type": "display_data",
          "data": {
            "text/plain": [
              "<IPython.core.display.Javascript object>"
            ],
            "application/javascript": [
              "\n",
              "            const element = document.getElementById(\"fa9ff09d-d5e2-40cb-8e9f-d9034d600cf0-circle\");\n",
              "            element.style.border = \"3px solid limegreen\";\n",
              "            element.style.animation = \"none\";\n",
              "\n",
              "            const text = document.getElementById(\"fa9ff09d-d5e2-40cb-8e9f-d9034d600cf0-text\");\n",
              "            text.innerText = \"Initialized Chromedriver\";\n",
              "        "
            ]
          },
          "metadata": {}
        }
      ]
    }
  ]
}